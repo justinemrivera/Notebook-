{
 "cells": [
  {
   "cell_type": "code",
   "execution_count": 8,
   "id": "3b23b904",
   "metadata": {},
   "outputs": [],
   "source": [
    "class Queue:\n",
    "    def __init__(self):\n",
    "        self.items = []\n",
    "    \n",
    "    def enqueue(self, item):\n",
    "        self.items.insert(0, item)\n",
    "        \n",
    "    def dequeue(self):\n",
    "        return self.items.pop()\n",
    "    \n",
    "    def size(self):\n",
    "        return len(self.items)\n",
    "    \n",
    "    def is_empty(self):\n",
    "        return self.items == []\n",
    "    \n",
    "    \n",
    "        \n",
    "        "
   ]
  },
  {
   "cell_type": "code",
   "execution_count": null,
   "id": "65fa08d6",
   "metadata": {},
   "outputs": [],
   "source": []
  },
  {
   "cell_type": "code",
   "execution_count": 9,
   "id": "158a106e",
   "metadata": {},
   "outputs": [],
   "source": [
    "from string import ascii_lowercase\n",
    "from random import randint, choice \n",
    "from time import sleep\n",
    "\n",
    "def register_visitors(visitor_queue):\n",
    "    for char in ascii_lowercase:\n",
    "        visitor_queue.enqueue(char)\n",
    "         \n",
    "\n",
    "def service_customers(visitor_queue):\n",
    "    bank_tellers=[\"A\", \"B\", \"C\", \"D\", \"E\", \"F\", \"G\"]\n",
    "    while not visitor_queue.is_empty():\n",
    "        visitor = visitor_queue.dequeue()\n",
    "        print(\"thank you for waiting %s, station %s is ready for you.\"\n",
    "            % (visitor, choice(bank_tellers)))\n",
    "        sleep(randint(1, 2))\n",
    "    print(\"Empty visitor queue.\")\n",
    "    \n",
    "def main():\n",
    "    visitor_queue = Queue()\n",
    "    register_visitors(visitor_queue)\n",
    "    service_customers(visitor_queue)"
   ]
  },
  {
   "cell_type": "code",
   "execution_count": 10,
   "id": "f38b41b7",
   "metadata": {},
   "outputs": [
    {
     "name": "stdout",
     "output_type": "stream",
     "text": [
      "thank you for waiting a, station B is ready for you.\n",
      "thank you for waiting b, station A is ready for you.\n",
      "thank you for waiting c, station C is ready for you.\n",
      "thank you for waiting d, station F is ready for you.\n",
      "thank you for waiting e, station E is ready for you.\n",
      "thank you for waiting f, station G is ready for you.\n",
      "thank you for waiting g, station F is ready for you.\n",
      "thank you for waiting h, station C is ready for you.\n",
      "thank you for waiting i, station F is ready for you.\n",
      "thank you for waiting j, station F is ready for you.\n",
      "thank you for waiting k, station F is ready for you.\n",
      "thank you for waiting l, station B is ready for you.\n",
      "thank you for waiting m, station E is ready for you.\n",
      "thank you for waiting n, station E is ready for you.\n",
      "thank you for waiting o, station G is ready for you.\n",
      "thank you for waiting p, station C is ready for you.\n",
      "thank you for waiting q, station G is ready for you.\n",
      "thank you for waiting r, station C is ready for you.\n",
      "thank you for waiting s, station E is ready for you.\n",
      "thank you for waiting t, station E is ready for you.\n",
      "thank you for waiting u, station B is ready for you.\n",
      "thank you for waiting v, station C is ready for you.\n",
      "thank you for waiting w, station B is ready for you.\n",
      "thank you for waiting x, station B is ready for you.\n",
      "thank you for waiting y, station G is ready for you.\n",
      "thank you for waiting z, station C is ready for you.\n",
      "Empty visitor queue.\n"
     ]
    }
   ],
   "source": [
    "main()"
   ]
  },
  {
   "cell_type": "code",
   "execution_count": 56,
   "id": "4dbf1b6e",
   "metadata": {},
   "outputs": [],
   "source": [
    "class Stack:\n",
    "    def __init__(self):\n",
    "        self.items = []\n",
    "   \n",
    "    def push(self, item):\n",
    "        self.items.append(item)\n",
    "    \n",
    "    def pop(self):\n",
    "        return self.items.pop()\n",
    "    \n",
    "    def peek(self):\n",
    "        return self.items[len(self.items)-1]\n",
    "    \n",
    "    def size(self):\n",
    "        return len(self.items)\n",
    "    \n",
    "    def is_empty(self):\n",
    "        return self.items == []"
   ]
  },
  {
   "cell_type": "code",
   "execution_count": 37,
   "id": "8cc9346f",
   "metadata": {},
   "outputs": [
    {
     "name": "stdout",
     "output_type": "stream",
     "text": [
      "{[(\n"
     ]
    }
   ],
   "source": [
    "def reverse(mystring):\n",
    "    output = \"\"\n",
    "    stack = Stack()\n",
    "    for character in mystring:\n",
    "        stack.push(character)\n",
    "    while not stack.is_empty():\n",
    "        output += stack.pop()\n",
    "    return output\n",
    "\n",
    "print(reverse(\"([{\"))\n",
    "        "
   ]
  },
  {
   "cell_type": "code",
   "execution_count": 46,
   "id": "6c66e766",
   "metadata": {},
   "outputs": [
    {
     "name": "stdout",
     "output_type": "stream",
     "text": [
      "yadsendew\n"
     ]
    }
   ],
   "source": [
    "def reverse(mystring):\n",
    "    output = \"\"\n",
    "    stack = Stack()\n",
    "    for character in mystring:\n",
    "        stack.push(character)\n",
    "    while not stack.is_empty():\n",
    "        output += stack.pop()\n",
    "    return output\n",
    "\n",
    "print(reverse(\"wednesday\"))"
   ]
  },
  {
   "cell_type": "code",
   "execution_count": null,
   "id": "a48f3120",
   "metadata": {},
   "outputs": [],
   "source": []
  }
 ],
 "metadata": {
  "kernelspec": {
   "display_name": "Python 3 (ipykernel)",
   "language": "python",
   "name": "python3"
  },
  "language_info": {
   "codemirror_mode": {
    "name": "ipython",
    "version": 3
   },
   "file_extension": ".py",
   "mimetype": "text/x-python",
   "name": "python",
   "nbconvert_exporter": "python",
   "pygments_lexer": "ipython3",
   "version": "3.8.10"
  }
 },
 "nbformat": 4,
 "nbformat_minor": 5
}
